{
 "cells": [
  {
   "cell_type": "markdown",
   "metadata": {},
   "source": [
    "# 2019.06.22 - 분석을 시작하기 전\n",
    "\n",
    "## EDA (Exploratory Data Analysis)\n",
    "\n",
    "**(탐색적 데이터 분석)**\n",
    "\n",
    "- 적합한 전처리 및 모형 적용을 위해 데이터를 이해하기 위한 과정\n",
    "\n",
    "### 목적 설정\n",
    "\n",
    "- 목적에 따라 분석의 방향이 달라지고, 입장에 다라 목적 또한 달라진다.\n",
    "  - 서비스 기획자: 전체적인 플랫폼 현황 파악\n",
    "  - 게임 개발자: 많이 팔리는 게임의 특징 파악\n",
    "  - 플랫폼 마케팅: 많이 구매하는 유저의 특징 파악\n",
    "  \n",
    "  \n",
    "### 가설 설정\n",
    "\n",
    "- 최대한 주어진 데이터 내에서 도메인 지식을 동원하여 가설 설정\n",
    "- 가설 설정을 위해 집중해야할 요소를 특정한다.\n",
    "\n",
    "#### Example\n",
    "\n",
    "- 많이 팔리는 게임은 유저의 평균 플레이 시간이 매우 높을 것이다."
   ]
  },
  {
   "cell_type": "markdown",
   "metadata": {},
   "source": [
    "# Variable Type\n",
    "\n",
    "## Categorical Variable (범주형 변수)\n",
    "\n",
    "- 연산 불가\n",
    "\n",
    "- 성별, 음식종류, 학점\n",
    "\n",
    "<br>\n",
    "\n",
    "## Continuous Variable (연속형 변수)\n",
    "\n",
    "- 연산 가능\n",
    "\n",
    "- 점수, 키, 몸무게"
   ]
  },
  {
   "cell_type": "markdown",
   "metadata": {},
   "source": [
    "# Steam Video Games\n",
    "\n",
    "## `read_csv` Parameters\n",
    "\n",
    "- `usecols`: 사용할 column 지정  \n",
    "- `names`: Header 생성하여 사용하는 column 의 이름을 순서대로 지정"
   ]
  },
  {
   "cell_type": "code",
   "execution_count": 1,
   "metadata": {},
   "outputs": [],
   "source": [
    "import pandas as pd\n",
    "import matplotlib.pylab as plt\n",
    "\n",
    "\n",
    "df = pd.read_csv('../data/steam-200k.csv',\n",
    "                usecols=range(3+1),\n",
    "                names=['userID', 'gameName', 'behavior', 'hours'],\n",
    "                )"
   ]
  },
  {
   "cell_type": "markdown",
   "metadata": {},
   "source": [
    "## Get Information of data"
   ]
  },
  {
   "cell_type": "code",
   "execution_count": 2,
   "metadata": {},
   "outputs": [
    {
     "name": "stdout",
     "output_type": "stream",
     "text": [
      "<class 'pandas.core.frame.DataFrame'>\n",
      "RangeIndex: 200000 entries, 0 to 199999\n",
      "Data columns (total 4 columns):\n",
      "userID      200000 non-null int64\n",
      "gameName    200000 non-null object\n",
      "behavior    200000 non-null object\n",
      "hours       200000 non-null float64\n",
      "dtypes: float64(1), int64(1), object(2)\n",
      "memory usage: 6.1+ MB\n"
     ]
    }
   ],
   "source": [
    "df.info()"
   ]
  },
  {
   "cell_type": "markdown",
   "metadata": {},
   "source": [
    "> Variable Type 이 `object` 인 변수는 연산 불가임을 고려한다. (Categorical Variable)"
   ]
  },
  {
   "cell_type": "code",
   "execution_count": 3,
   "metadata": {},
   "outputs": [
    {
     "data": {
      "text/html": [
       "<div>\n",
       "<style scoped>\n",
       "    .dataframe tbody tr th:only-of-type {\n",
       "        vertical-align: middle;\n",
       "    }\n",
       "\n",
       "    .dataframe tbody tr th {\n",
       "        vertical-align: top;\n",
       "    }\n",
       "\n",
       "    .dataframe thead th {\n",
       "        text-align: right;\n",
       "    }\n",
       "</style>\n",
       "<table border=\"1\" class=\"dataframe\">\n",
       "  <thead>\n",
       "    <tr style=\"text-align: right;\">\n",
       "      <th></th>\n",
       "      <th>userID</th>\n",
       "      <th>hours</th>\n",
       "    </tr>\n",
       "  </thead>\n",
       "  <tbody>\n",
       "    <tr>\n",
       "      <th>count</th>\n",
       "      <td>2.000000e+05</td>\n",
       "      <td>200000.000000</td>\n",
       "    </tr>\n",
       "    <tr>\n",
       "      <th>mean</th>\n",
       "      <td>1.036559e+08</td>\n",
       "      <td>17.874384</td>\n",
       "    </tr>\n",
       "    <tr>\n",
       "      <th>std</th>\n",
       "      <td>7.208074e+07</td>\n",
       "      <td>138.056952</td>\n",
       "    </tr>\n",
       "    <tr>\n",
       "      <th>min</th>\n",
       "      <td>5.250000e+03</td>\n",
       "      <td>0.100000</td>\n",
       "    </tr>\n",
       "    <tr>\n",
       "      <th>25%</th>\n",
       "      <td>4.738420e+07</td>\n",
       "      <td>1.000000</td>\n",
       "    </tr>\n",
       "    <tr>\n",
       "      <th>50%</th>\n",
       "      <td>8.691201e+07</td>\n",
       "      <td>1.000000</td>\n",
       "    </tr>\n",
       "    <tr>\n",
       "      <th>75%</th>\n",
       "      <td>1.542309e+08</td>\n",
       "      <td>1.300000</td>\n",
       "    </tr>\n",
       "    <tr>\n",
       "      <th>max</th>\n",
       "      <td>3.099031e+08</td>\n",
       "      <td>11754.000000</td>\n",
       "    </tr>\n",
       "  </tbody>\n",
       "</table>\n",
       "</div>"
      ],
      "text/plain": [
       "             userID          hours\n",
       "count  2.000000e+05  200000.000000\n",
       "mean   1.036559e+08      17.874384\n",
       "std    7.208074e+07     138.056952\n",
       "min    5.250000e+03       0.100000\n",
       "25%    4.738420e+07       1.000000\n",
       "50%    8.691201e+07       1.000000\n",
       "75%    1.542309e+08       1.300000\n",
       "max    3.099031e+08   11754.000000"
      ]
     },
     "execution_count": 3,
     "metadata": {},
     "output_type": "execute_result"
    }
   ],
   "source": [
    "df.describe()  # Data type 이 Continuous 인 경우만 연산하야 출력해준다."
   ]
  },
  {
   "cell_type": "markdown",
   "metadata": {},
   "source": [
    "## Get columns and rows of data\n",
    "\n",
    "- `df.shape`\n",
    "- `df.row`\n",
    "- `df.columns`\n",
    "- `df.size` == `df.shape[0] * df.shape[1]`\n",
    "- `df.count()`\n",
    "- `df.describe()`"
   ]
  },
  {
   "cell_type": "code",
   "execution_count": 4,
   "metadata": {},
   "outputs": [
    {
     "name": "stdout",
     "output_type": "stream",
     "text": [
      "Data length of row: 200000\n",
      "Data length of column: 4\n"
     ]
    }
   ],
   "source": [
    "len_row = df.shape[0]\n",
    "len_col = df.shape[1]\n",
    "print(f'Data length of row: {len_row}')\n",
    "print(f'Data length of column: {len_col}')"
   ]
  },
  {
   "cell_type": "code",
   "execution_count": 5,
   "metadata": {},
   "outputs": [
    {
     "name": "stdout",
     "output_type": "stream",
     "text": [
      "RangeIndex(start=0, stop=200000, step=1)\n",
      "Index(['userID', 'gameName', 'behavior', 'hours'], dtype='object')\n"
     ]
    }
   ],
   "source": [
    "print(df.index)\n",
    "print(df.columns)"
   ]
  },
  {
   "cell_type": "code",
   "execution_count": 6,
   "metadata": {},
   "outputs": [
    {
     "name": "stdout",
     "output_type": "stream",
     "text": [
      "200000\n",
      "4\n",
      "800000\n"
     ]
    }
   ],
   "source": [
    "print(len(df.index))  # equal to df.shape[0]\n",
    "print(len(df.columns))  # equal to df.shape[1]\n",
    "print(df.size)  # equal to df.shape[0] * df.shape[1]"
   ]
  },
  {
   "cell_type": "code",
   "execution_count": 7,
   "metadata": {},
   "outputs": [
    {
     "name": "stdout",
     "output_type": "stream",
     "text": [
      "userID      200000\n",
      "gameName    200000\n",
      "behavior    200000\n",
      "hours       200000\n",
      "dtype: int64\n"
     ]
    }
   ],
   "source": [
    "print(df.count())"
   ]
  },
  {
   "cell_type": "code",
   "execution_count": 8,
   "metadata": {},
   "outputs": [
    {
     "name": "stdout",
     "output_type": "stream",
     "text": [
      "200000\n",
      "200000\n",
      "200000\n",
      "200000\n"
     ]
    }
   ],
   "source": [
    "print(df.count()[0])\n",
    "print(df.count()[1])\n",
    "print(df.count()[2])\n",
    "print(df.count()[3])"
   ]
  },
  {
   "cell_type": "markdown",
   "metadata": {},
   "source": [
    "## Process"
   ]
  },
  {
   "cell_type": "markdown",
   "metadata": {},
   "source": [
    "- `df['behavior']` : behavior 열 전부\n",
    "- `df['behavior'] == 'play'` : behavior 열에서 해당 조건 만족하는 row(index)"
   ]
  },
  {
   "cell_type": "code",
   "execution_count": 9,
   "metadata": {},
   "outputs": [
    {
     "data": {
      "text/plain": [
       "0     True\n",
       "1    False\n",
       "2     True\n",
       "3    False\n",
       "4     True\n",
       "Name: behavior, dtype: bool"
      ]
     },
     "execution_count": 9,
     "metadata": {},
     "output_type": "execute_result"
    }
   ],
   "source": [
    "play_bool = df['behavior'] == 'play'\n",
    "purchase_bool = df['behavior'] == 'purchase'\n",
    "\n",
    "purchase_bool[:5]"
   ]
  },
  {
   "cell_type": "code",
   "execution_count": 10,
   "metadata": {},
   "outputs": [],
   "source": [
    "df_play = df[play_bool] # behavior 가 play 에 해당하는 row (index) 출력\n",
    "df_purchase = df[purchase_bool]  # behavior 가 purchase 에 해당하는 row (index) 출력"
   ]
  },
  {
   "cell_type": "code",
   "execution_count": 11,
   "metadata": {},
   "outputs": [
    {
     "data": {
      "text/plain": [
       "array(['play'], dtype=object)"
      ]
     },
     "execution_count": 11,
     "metadata": {},
     "output_type": "execute_result"
    }
   ],
   "source": [
    "df_play['behavior'].unique()"
   ]
  },
  {
   "cell_type": "code",
   "execution_count": 12,
   "metadata": {},
   "outputs": [
    {
     "name": "stdout",
     "output_type": "stream",
     "text": [
      "총 유저수: 12393\n",
      "총 게임수: 5155\n",
      "전체 구매횟수: 129511\n",
      "전체 플레이횟수: 70489\n",
      "전체 구매의 45.6% 가 구매만 되고 플레이 없음\n"
     ]
    }
   ],
   "source": [
    "user_num = df['userID'].nunique()  # 12393\n",
    "game_num = df['gameName'].nunique()  # 5155\n",
    "purchase_num = len(df_purchase)  # 129511\n",
    "play_num = len(df_play)  # 70489\n",
    "non_play_ratio = ( (purchase_num - play_num) / purchase_num ) * 100\n",
    "\n",
    "print(f'총 유저수: {user_num}')\n",
    "print(f'총 게임수: {game_num}')\n",
    "print(f'전체 구매횟수: {purchase_num}')\n",
    "print(f'전체 플레이횟수: {play_num}')\n",
    "print(f'전체 구매의 {non_play_ratio:0.1f}% 가 구매만 되고 플레이 없음')"
   ]
  },
  {
   "cell_type": "code",
   "execution_count": 13,
   "metadata": {},
   "outputs": [
    {
     "data": {
      "text/html": [
       "<div>\n",
       "<style scoped>\n",
       "    .dataframe tbody tr th:only-of-type {\n",
       "        vertical-align: middle;\n",
       "    }\n",
       "\n",
       "    .dataframe tbody tr th {\n",
       "        vertical-align: top;\n",
       "    }\n",
       "\n",
       "    .dataframe thead th {\n",
       "        text-align: right;\n",
       "    }\n",
       "</style>\n",
       "<table border=\"1\" class=\"dataframe\">\n",
       "  <thead>\n",
       "    <tr style=\"text-align: right;\">\n",
       "      <th></th>\n",
       "      <th>userID</th>\n",
       "      <th>hours</th>\n",
       "    </tr>\n",
       "  </thead>\n",
       "  <tbody>\n",
       "    <tr>\n",
       "      <th>count</th>\n",
       "      <td>7.048900e+04</td>\n",
       "      <td>70489.000000</td>\n",
       "    </tr>\n",
       "    <tr>\n",
       "      <th>mean</th>\n",
       "      <td>1.058812e+08</td>\n",
       "      <td>48.878063</td>\n",
       "    </tr>\n",
       "    <tr>\n",
       "      <th>std</th>\n",
       "      <td>7.150365e+07</td>\n",
       "      <td>229.335236</td>\n",
       "    </tr>\n",
       "    <tr>\n",
       "      <th>min</th>\n",
       "      <td>5.250000e+03</td>\n",
       "      <td>0.100000</td>\n",
       "    </tr>\n",
       "    <tr>\n",
       "      <th>25%</th>\n",
       "      <td>4.934256e+07</td>\n",
       "      <td>1.000000</td>\n",
       "    </tr>\n",
       "    <tr>\n",
       "      <th>50%</th>\n",
       "      <td>9.169067e+07</td>\n",
       "      <td>4.500000</td>\n",
       "    </tr>\n",
       "    <tr>\n",
       "      <th>75%</th>\n",
       "      <td>1.556738e+08</td>\n",
       "      <td>19.100000</td>\n",
       "    </tr>\n",
       "    <tr>\n",
       "      <th>max</th>\n",
       "      <td>3.099031e+08</td>\n",
       "      <td>11754.000000</td>\n",
       "    </tr>\n",
       "  </tbody>\n",
       "</table>\n",
       "</div>"
      ],
      "text/plain": [
       "             userID         hours\n",
       "count  7.048900e+04  70489.000000\n",
       "mean   1.058812e+08     48.878063\n",
       "std    7.150365e+07    229.335236\n",
       "min    5.250000e+03      0.100000\n",
       "25%    4.934256e+07      1.000000\n",
       "50%    9.169067e+07      4.500000\n",
       "75%    1.556738e+08     19.100000\n",
       "max    3.099031e+08  11754.000000"
      ]
     },
     "execution_count": 13,
     "metadata": {},
     "output_type": "execute_result"
    }
   ],
   "source": [
    "df_play.describe()"
   ]
  },
  {
   "cell_type": "markdown",
   "metadata": {},
   "source": [
    "- 누적 백분율 75% 해당하는 수가 19, 평균은 49\n",
    "- 4분위수를 살퍄보면 작은 수에 값이 치우쳐짐\n",
    "- 오른쪽으로 긴 꼬리를 가진 정적 비대칭(Positive Skew) 형태"
   ]
  },
  {
   "cell_type": "code",
   "execution_count": 14,
   "metadata": {},
   "outputs": [
    {
     "data": {
      "image/png": "[encoded data removed]",
      "text/plain": [
       "<Figure size 432x288 with 1 Axes>"
      ]
     },
     "metadata": {
      "needs_background": "light"
     },
     "output_type": "display_data"
    }
   ],
   "source": [
    "_ = plt.hist(df_play['hours'], bins=100)  # bins : x축 경계값 범위크기"
   ]
  },
  {
   "cell_type": "code",
   "execution_count": 15,
   "metadata": {},
   "outputs": [
    {
     "data": {
      "image/png": "[encoded data removed]",
      "text/plain": [
       "<Figure size 432x288 with 1 Axes>"
      ]
     },
     "metadata": {
      "needs_background": "light"
     },
     "output_type": "display_data"
    }
   ],
   "source": [
    "_ = plt.hist(df_play['hours'], log=True)  # log 로 정규화"
   ]
  },
  {
   "cell_type": "markdown",
   "metadata": {},
   "source": [
    "## 유저별로 살펴보기"
   ]
  },
  {
   "cell_type": "code",
   "execution_count": 16,
   "metadata": {},
   "outputs": [
    {
     "data": {
      "text/html": [
       "<div>\n",
       "<style scoped>\n",
       "    .dataframe tbody tr th:only-of-type {\n",
       "        vertical-align: middle;\n",
       "    }\n",
       "\n",
       "    .dataframe tbody tr th {\n",
       "        vertical-align: top;\n",
       "    }\n",
       "\n",
       "    .dataframe thead th {\n",
       "        text-align: right;\n",
       "    }\n",
       "</style>\n",
       "<table border=\"1\" class=\"dataframe\">\n",
       "  <thead>\n",
       "    <tr style=\"text-align: right;\">\n",
       "      <th></th>\n",
       "      <th>hours</th>\n",
       "    </tr>\n",
       "  </thead>\n",
       "  <tbody>\n",
       "    <tr>\n",
       "      <th>count</th>\n",
       "      <td>11350.000000</td>\n",
       "    </tr>\n",
       "    <tr>\n",
       "      <th>mean</th>\n",
       "      <td>303.556458</td>\n",
       "    </tr>\n",
       "    <tr>\n",
       "      <th>std</th>\n",
       "      <td>789.541803</td>\n",
       "    </tr>\n",
       "    <tr>\n",
       "      <th>min</th>\n",
       "      <td>0.100000</td>\n",
       "    </tr>\n",
       "    <tr>\n",
       "      <th>25%</th>\n",
       "      <td>2.300000</td>\n",
       "    </tr>\n",
       "    <tr>\n",
       "      <th>50%</th>\n",
       "      <td>19.500000</td>\n",
       "    </tr>\n",
       "    <tr>\n",
       "      <th>75%</th>\n",
       "      <td>198.975000</td>\n",
       "    </tr>\n",
       "    <tr>\n",
       "      <th>max</th>\n",
       "      <td>11754.000000</td>\n",
       "    </tr>\n",
       "  </tbody>\n",
       "</table>\n",
       "</div>"
      ],
      "text/plain": [
       "              hours\n",
       "count  11350.000000\n",
       "mean     303.556458\n",
       "std      789.541803\n",
       "min        0.100000\n",
       "25%        2.300000\n",
       "50%       19.500000\n",
       "75%      198.975000\n",
       "max    11754.000000"
      ]
     },
     "execution_count": 16,
     "metadata": {},
     "output_type": "execute_result"
    }
   ],
   "source": [
    "user_play_sum = df_play.groupby('userID').sum()  # userID 기준으로 continuous 데이터를 sum 하여 보여준다.\n",
    "user_play_sum.describe()"
   ]
  },
  {
   "cell_type": "code",
   "execution_count": 17,
   "metadata": {},
   "outputs": [
    {
     "data": {
      "image/png": "[encoded data removed]",
      "text/plain": [
       "<Figure size 432x288 with 1 Axes>"
      ]
     },
     "metadata": {
      "needs_background": "light"
     },
     "output_type": "display_data"
    }
   ],
   "source": [
    "_ = plt.hist(user_play_sum['hours'], log=True)"
   ]
  },
  {
   "cell_type": "code",
   "execution_count": 18,
   "metadata": {},
   "outputs": [
    {
     "data": {
      "text/html": [
       "<div>\n",
       "<style scoped>\n",
       "    .dataframe tbody tr th:only-of-type {\n",
       "        vertical-align: middle;\n",
       "    }\n",
       "\n",
       "    .dataframe tbody tr th {\n",
       "        vertical-align: top;\n",
       "    }\n",
       "\n",
       "    .dataframe thead th {\n",
       "        text-align: right;\n",
       "    }\n",
       "</style>\n",
       "<table border=\"1\" class=\"dataframe\">\n",
       "  <thead>\n",
       "    <tr style=\"text-align: right;\">\n",
       "      <th></th>\n",
       "      <th>hours</th>\n",
       "    </tr>\n",
       "  </thead>\n",
       "  <tbody>\n",
       "    <tr>\n",
       "      <th>count</th>\n",
       "      <td>12393.000000</td>\n",
       "    </tr>\n",
       "    <tr>\n",
       "      <th>mean</th>\n",
       "      <td>10.450335</td>\n",
       "    </tr>\n",
       "    <tr>\n",
       "      <th>std</th>\n",
       "      <td>35.864269</td>\n",
       "    </tr>\n",
       "    <tr>\n",
       "      <th>min</th>\n",
       "      <td>1.000000</td>\n",
       "    </tr>\n",
       "    <tr>\n",
       "      <th>25%</th>\n",
       "      <td>1.000000</td>\n",
       "    </tr>\n",
       "    <tr>\n",
       "      <th>50%</th>\n",
       "      <td>2.000000</td>\n",
       "    </tr>\n",
       "    <tr>\n",
       "      <th>75%</th>\n",
       "      <td>6.000000</td>\n",
       "    </tr>\n",
       "    <tr>\n",
       "      <th>max</th>\n",
       "      <td>1075.000000</td>\n",
       "    </tr>\n",
       "  </tbody>\n",
       "</table>\n",
       "</div>"
      ],
      "text/plain": [
       "              hours\n",
       "count  12393.000000\n",
       "mean      10.450335\n",
       "std       35.864269\n",
       "min        1.000000\n",
       "25%        1.000000\n",
       "50%        2.000000\n",
       "75%        6.000000\n",
       "max     1075.000000"
      ]
     },
     "execution_count": 18,
     "metadata": {},
     "output_type": "execute_result"
    }
   ],
   "source": [
    "user_pur_sum = df_purchase.groupby('userID').sum()  # userID 기준으로 continuous 데이터를 sum 하여 보여준다.\n",
    "user_pur_sum.describe()"
   ]
  },
  {
   "cell_type": "code",
   "execution_count": 19,
   "metadata": {},
   "outputs": [
    {
     "data": {
      "image/png": "[encoded data removed]",
      "text/plain": [
       "<Figure size 432x288 with 1 Axes>"
      ]
     },
     "metadata": {
      "needs_background": "light"
     },
     "output_type": "display_data"
    }
   ],
   "source": [
    "_ = plt.hist(user_pur_sum['hours'], log=True)"
   ]
  },
  {
   "cell_type": "code",
   "execution_count": 20,
   "metadata": {},
   "outputs": [
    {
     "data": {
      "text/html": [
       "<div>\n",
       "<style scoped>\n",
       "    .dataframe tbody tr th:only-of-type {\n",
       "        vertical-align: middle;\n",
       "    }\n",
       "\n",
       "    .dataframe tbody tr th {\n",
       "        vertical-align: top;\n",
       "    }\n",
       "\n",
       "    .dataframe thead th {\n",
       "        text-align: right;\n",
       "    }\n",
       "</style>\n",
       "<table border=\"1\" class=\"dataframe\">\n",
       "  <thead>\n",
       "    <tr style=\"text-align: right;\">\n",
       "      <th></th>\n",
       "      <th>userID</th>\n",
       "      <th>hours</th>\n",
       "    </tr>\n",
       "    <tr>\n",
       "      <th>gameName</th>\n",
       "      <th></th>\n",
       "      <th></th>\n",
       "    </tr>\n",
       "  </thead>\n",
       "  <tbody>\n",
       "    <tr>\n",
       "      <th>rymdkapsel</th>\n",
       "      <td>49630184</td>\n",
       "      <td>1.1</td>\n",
       "    </tr>\n",
       "    <tr>\n",
       "      <th>sZone-Online</th>\n",
       "      <td>9431144920</td>\n",
       "      <td>56.7</td>\n",
       "    </tr>\n",
       "    <tr>\n",
       "      <th>the static speaks my name</th>\n",
       "      <td>1468962719</td>\n",
       "      <td>2.0</td>\n",
       "    </tr>\n",
       "    <tr>\n",
       "      <th>theHunter</th>\n",
       "      <td>19522806646</td>\n",
       "      <td>309.2</td>\n",
       "    </tr>\n",
       "    <tr>\n",
       "      <th>theHunter Primal</th>\n",
       "      <td>587183214</td>\n",
       "      <td>85.9</td>\n",
       "    </tr>\n",
       "  </tbody>\n",
       "</table>\n",
       "</div>"
      ],
      "text/plain": [
       "                                userID  hours\n",
       "gameName                                     \n",
       "rymdkapsel                    49630184    1.1\n",
       "sZone-Online                9431144920   56.7\n",
       "the static speaks my name   1468962719    2.0\n",
       "theHunter                  19522806646  309.2\n",
       "theHunter Primal             587183214   85.9"
      ]
     },
     "execution_count": 20,
     "metadata": {},
     "output_type": "execute_result"
    }
   ],
   "source": [
    "game_play_sum = df_play.groupby(\"gameName\").sum()\n",
    "game_play_sum.tail()"
   ]
  },
  {
   "cell_type": "code",
   "execution_count": 21,
   "metadata": {},
   "outputs": [
    {
     "data": {
      "text/html": [
       "<div>\n",
       "<style scoped>\n",
       "    .dataframe tbody tr th:only-of-type {\n",
       "        vertical-align: middle;\n",
       "    }\n",
       "\n",
       "    .dataframe tbody tr th {\n",
       "        vertical-align: top;\n",
       "    }\n",
       "\n",
       "    .dataframe thead th {\n",
       "        text-align: right;\n",
       "    }\n",
       "</style>\n",
       "<table border=\"1\" class=\"dataframe\">\n",
       "  <thead>\n",
       "    <tr style=\"text-align: right;\">\n",
       "      <th></th>\n",
       "      <th>userID</th>\n",
       "      <th>hours</th>\n",
       "    </tr>\n",
       "  </thead>\n",
       "  <tbody>\n",
       "    <tr>\n",
       "      <th>count</th>\n",
       "      <td>3.600000e+03</td>\n",
       "      <td>3600.000000</td>\n",
       "    </tr>\n",
       "    <tr>\n",
       "      <th>mean</th>\n",
       "      <td>2.073184e+09</td>\n",
       "      <td>957.046056</td>\n",
       "    </tr>\n",
       "    <tr>\n",
       "      <th>std</th>\n",
       "      <td>1.685356e+10</td>\n",
       "      <td>17930.737469</td>\n",
       "    </tr>\n",
       "    <tr>\n",
       "      <th>min</th>\n",
       "      <td>2.989500e+05</td>\n",
       "      <td>0.100000</td>\n",
       "    </tr>\n",
       "    <tr>\n",
       "      <th>25%</th>\n",
       "      <td>1.188384e+08</td>\n",
       "      <td>3.100000</td>\n",
       "    </tr>\n",
       "    <tr>\n",
       "      <th>50%</th>\n",
       "      <td>2.966539e+08</td>\n",
       "      <td>15.100000</td>\n",
       "    </tr>\n",
       "    <tr>\n",
       "      <th>75%</th>\n",
       "      <td>1.085042e+09</td>\n",
       "      <td>97.575000</td>\n",
       "    </tr>\n",
       "    <tr>\n",
       "      <th>max</th>\n",
       "      <td>8.762449e+11</td>\n",
       "      <td>981684.600000</td>\n",
       "    </tr>\n",
       "  </tbody>\n",
       "</table>\n",
       "</div>"
      ],
      "text/plain": [
       "             userID          hours\n",
       "count  3.600000e+03    3600.000000\n",
       "mean   2.073184e+09     957.046056\n",
       "std    1.685356e+10   17930.737469\n",
       "min    2.989500e+05       0.100000\n",
       "25%    1.188384e+08       3.100000\n",
       "50%    2.966539e+08      15.100000\n",
       "75%    1.085042e+09      97.575000\n",
       "max    8.762449e+11  981684.600000"
      ]
     },
     "execution_count": 21,
     "metadata": {},
     "output_type": "execute_result"
    }
   ],
   "source": [
    "game_play_sum.describe()"
   ]
  },
  {
   "cell_type": "code",
   "execution_count": 22,
   "metadata": {},
   "outputs": [
    {
     "data": {
      "image/png": "[encoded data removed]",
      "text/plain": [
       "<Figure size 432x288 with 1 Axes>"
      ]
     },
     "metadata": {
      "needs_background": "light"
     },
     "output_type": "display_data"
    }
   ],
   "source": [
    "_ = plt.hist(game_play_sum['hours'], log=True)"
   ]
  },
  {
   "cell_type": "code",
   "execution_count": 23,
   "metadata": {},
   "outputs": [
    {
     "data": {
      "text/html": [
       "<div>\n",
       "<style scoped>\n",
       "    .dataframe tbody tr th:only-of-type {\n",
       "        vertical-align: middle;\n",
       "    }\n",
       "\n",
       "    .dataframe tbody tr th {\n",
       "        vertical-align: top;\n",
       "    }\n",
       "\n",
       "    .dataframe thead th {\n",
       "        text-align: right;\n",
       "    }\n",
       "</style>\n",
       "<table border=\"1\" class=\"dataframe\">\n",
       "  <thead>\n",
       "    <tr style=\"text-align: right;\">\n",
       "      <th></th>\n",
       "      <th>userID</th>\n",
       "      <th>hours</th>\n",
       "    </tr>\n",
       "  </thead>\n",
       "  <tbody>\n",
       "    <tr>\n",
       "      <th>count</th>\n",
       "      <td>5.155000e+03</td>\n",
       "      <td>5155.000000</td>\n",
       "    </tr>\n",
       "    <tr>\n",
       "      <th>mean</th>\n",
       "      <td>2.573756e+09</td>\n",
       "      <td>25.123375</td>\n",
       "    </tr>\n",
       "    <tr>\n",
       "      <th>std</th>\n",
       "      <td>1.537558e+10</td>\n",
       "      <td>101.572586</td>\n",
       "    </tr>\n",
       "    <tr>\n",
       "      <th>min</th>\n",
       "      <td>2.989500e+05</td>\n",
       "      <td>1.000000</td>\n",
       "    </tr>\n",
       "    <tr>\n",
       "      <th>25%</th>\n",
       "      <td>1.427503e+08</td>\n",
       "      <td>2.000000</td>\n",
       "    </tr>\n",
       "    <tr>\n",
       "      <th>50%</th>\n",
       "      <td>4.089171e+08</td>\n",
       "      <td>5.000000</td>\n",
       "    </tr>\n",
       "    <tr>\n",
       "      <th>75%</th>\n",
       "      <td>1.562343e+09</td>\n",
       "      <td>18.000000</td>\n",
       "    </tr>\n",
       "    <tr>\n",
       "      <th>max</th>\n",
       "      <td>8.762449e+11</td>\n",
       "      <td>4841.000000</td>\n",
       "    </tr>\n",
       "  </tbody>\n",
       "</table>\n",
       "</div>"
      ],
      "text/plain": [
       "             userID        hours\n",
       "count  5.155000e+03  5155.000000\n",
       "mean   2.573756e+09    25.123375\n",
       "std    1.537558e+10   101.572586\n",
       "min    2.989500e+05     1.000000\n",
       "25%    1.427503e+08     2.000000\n",
       "50%    4.089171e+08     5.000000\n",
       "75%    1.562343e+09    18.000000\n",
       "max    8.762449e+11  4841.000000"
      ]
     },
     "execution_count": 23,
     "metadata": {},
     "output_type": "execute_result"
    }
   ],
   "source": [
    "game_pur_sum = df_purchase.groupby('gameName').sum()\n",
    "game_pur_sum.describe()"
   ]
  },
  {
   "cell_type": "code",
   "execution_count": 24,
   "metadata": {},
   "outputs": [
    {
     "data": {
      "image/png": "[encoded data removed]",
      "text/plain": [
       "<Figure size 432x288 with 1 Axes>"
      ]
     },
     "metadata": {
      "needs_background": "light"
     },
     "output_type": "display_data"
    }
   ],
   "source": [
    "_ = plt.hist(game_pur_sum['hours'], log=True)"
   ]
  },
  {
   "cell_type": "markdown",
   "metadata": {},
   "source": [
    "## 소결론\n",
    "\n",
    "- 전체 구매의 45.57%는 플레이 없이 구매만 발생\n",
    "- 극고수의 유저들이 플랫폼 이용시간(+구매) 대부분을 차지\n",
    "- 극소수의 게임들만 인기를 얻음 \\=\\=\\> 플랫폼 이용시간 및 게임 이용시간 분포는 압정 구조\n",
    "\n",
    "<br>\n",
    "\n",
    "## 더 생각해보기\n",
    "\n",
    "**'많이 팔리는...', '많이 구매하는...' 에서 '많이' 의 기준**\n",
    "\n",
    "### '많이 팔리는 게임'의 유형\n",
    "\n",
    "- 대중형: 높은 구매량, 높은 플레이 시간\n",
    "- 마니아형: 낮은 구매량, 높은 플레이 시간\n",
    "\n",
    "<br>\n",
    "\n",
    "### '많이 구매하는 유저'의 유형\n",
    "\n",
    "- 수집형: 높은 구매량, 낮은 플레이 시간\n",
    "- 즐겜형: 낮은 구매량, 높은 플레이 시간\n",
    "\n",
    "<br>\n",
    "\n",
    "### 새로운 특징 생성 가능 (Feature Engineering)\n",
    "\n",
    "- Maniac Index: (평균 플레이 시간 / 구매 수)\n",
    "- Collector Index: 1 - (플레이한 게임 수 / 구매한 게임 수)"
   ]
  }
 ],
 "metadata": {
  "kernelspec": {
   "display_name": "Python 3",
   "language": "python",
   "name": "python3"
  },
  "language_info": {
   "codemirror_mode": {
    "name": "ipython",
    "version": 3
   },
   "file_extension": ".py",
   "mimetype": "text/x-python",
   "name": "python",
   "nbconvert_exporter": "python",
   "pygments_lexer": "ipython3",
   "version": "3.7.3"
  }
 },
 "nbformat": 4,
 "nbformat_minor": 2
}
